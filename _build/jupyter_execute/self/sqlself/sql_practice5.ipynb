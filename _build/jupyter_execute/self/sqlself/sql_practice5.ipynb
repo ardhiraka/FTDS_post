{
 "cells": [
  {
   "cell_type": "markdown",
   "metadata": {},
   "source": [
    "# Pivoting Data in SQL\n",
    "\n",
    "## Setup\n",
    "\n",
    "1. Start by installing MySQL from here: https://dev.mysql.com/downloads/\n",
    "2. Follow the instructions from [here](https://ladvien.com/data-analytics-mysql-localhost-setup/) to setup MySQL on your local machine.\n",
    "3. Install MySQL Workbench from here: https://dev.mysql.com/downloads/workbench/\n",
    "4. Download dataset used in this lecture from here: https://github.com/ardhiraka/PFDS_sources/blob/master/players.csv and https://github.com/ardhiraka/PFDS_sources/blob/master/teams.csv\n"
   ]
  },
  {
   "cell_type": "markdown",
   "metadata": {},
   "source": [
    "Let's start by aggregating the data to show the number of players of each year in each conference, similar to the first example in the inner join lesson:\n",
    "\n",
    "```sql\n",
    "SELECT teams.conference AS conference,\n",
    "       players.year,\n",
    "       COUNT(1) AS players\n",
    "  FROM hacktiv8.players players\n",
    "  JOIN hacktiv8.teams teams\n",
    "    ON teams.school_name = players.school_name\n",
    " GROUP BY 1,2\n",
    " ORDER BY 1,2\n",
    "```\n",
    "\n",
    "In order to transform the data, we'll need to put the above query into a subquery. It can be helpful to create the subquery and select all columns from it before starting to make transformations. Re-running the query at incremental steps like this makes it easier to debug if your query doesn't run. Note that you can eliminate the ORDER BY clause from the subquery since we'll reorder the results in the outer query.\n",
    "\n",
    "```sql\n",
    "SELECT *\n",
    "  FROM (\n",
    "        SELECT teams.conference AS conference,\n",
    "               players.year,\n",
    "               COUNT(1) AS players\n",
    "            FROM hacktiv8.players players\n",
    "\t\t\tJOIN hacktiv8.teams teams\n",
    "            ON teams.school_name = players.school_name\n",
    "         GROUP BY 1,2\n",
    "       ) sub\n",
    "```\n",
    "\n",
    "Assuming that works as planned (results should look exactly the same as the first query), it's time to break the results out into different columns for various years. Each item in the SELECT statement creates a column, so you'll have to create a separate column for each year:\n",
    "\n",
    "```sql\n",
    "SELECT conference,\n",
    "       SUM(CASE WHEN year = 'FR' THEN players ELSE NULL END) AS fr,\n",
    "       SUM(CASE WHEN year = 'SO' THEN players ELSE NULL END) AS so,\n",
    "       SUM(CASE WHEN year = 'JR' THEN players ELSE NULL END) AS jr,\n",
    "       SUM(CASE WHEN year = 'SR' THEN players ELSE NULL END) AS sr\n",
    "  FROM (\n",
    "        SELECT teams.conference AS conference,\n",
    "               players.year,\n",
    "               COUNT(1) AS players\n",
    "          FROM hacktiv8.players players\n",
    "          JOIN hacktiv8.teams teams\n",
    "            ON teams.school_name = players.school_name\n",
    "         GROUP BY 1,2\n",
    "       ) sub\n",
    " GROUP BY 1\n",
    " ORDER BY 1\n",
    " ```\n",
    "\n",
    "But this could still be made a little better. You'll notice that the above query produces a list that is ordered alphabetically by Conference. It might make more sense to add a \"total players\" column and order by that (largest to smallest):\n",
    "\n",
    "```sql\n",
    "SELECT conference,\n",
    "       SUM(players) AS total_players,\n",
    "       SUM(CASE WHEN year = 'FR' THEN players ELSE NULL END) AS fr,\n",
    "       SUM(CASE WHEN year = 'SO' THEN players ELSE NULL END) AS so,\n",
    "       SUM(CASE WHEN year = 'JR' THEN players ELSE NULL END) AS jr,\n",
    "       SUM(CASE WHEN year = 'SR' THEN players ELSE NULL END) AS sr\n",
    "  FROM (\n",
    "        SELECT teams.conference AS conference,\n",
    "               players.year,\n",
    "               COUNT(1) AS players\n",
    "          FROM hacktiv8.players players\n",
    "          JOIN hacktiv8.teams teams\n",
    "            ON teams.school_name = players.school_name\n",
    "         GROUP BY 1,2\n",
    "       ) sub\n",
    " GROUP BY 1\n",
    " ORDER BY 2 DESC\n",
    "```\n",
    "\n"
   ]
  }
 ],
 "metadata": {
  "kernelspec": {
   "display_name": "Python 3.8.5 64-bit",
   "language": "python",
   "name": "python3"
  },
  "language_info": {
   "codemirror_mode": {
    "name": "ipython",
    "version": 3
   },
   "file_extension": ".py",
   "mimetype": "text/x-python",
   "name": "python",
   "nbconvert_exporter": "python",
   "pygments_lexer": "ipython3",
   "version": "3.8.5"
  },
  "vscode": {
   "interpreter": {
    "hash": "8c71de309b4b963849dcdea67a8393813ff3e099e0aa7ae42184ea5b035dde7e"
   }
  }
 },
 "nbformat": 4,
 "nbformat_minor": 2
}