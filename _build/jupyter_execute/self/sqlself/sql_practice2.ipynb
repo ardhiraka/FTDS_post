{
 "cells": [
  {
   "cell_type": "markdown",
   "metadata": {},
   "source": [
    "# MySQL Practice 2\n",
    "\n",
    "## Setup\n",
    "\n",
    "1. Start by installing MySQL from here: https://dev.mysql.com/downloads/\n",
    "2. Follow the instructions from [here](https://ladvien.com/data-analytics-mysql-localhost-setup/) to setup MySQL on your local machine.\n",
    "3. Install MySQL Workbench from here: https://dev.mysql.com/downloads/workbench/\n",
    "4. Download dataset used in this lecture from here: https://www.kaggle.com/mirichoi0218/insurance\n"
   ]
  },
  {
   "cell_type": "markdown",
   "metadata": {},
   "source": [
    "Open your MySQL Workbench and connect to your local MySQL server.\n",
    "\n",
    "<img src=\"images/1.png\" alt=\"splash\" width=\"700\"/>\n",
    "\n",
    "Click on `create new schema` to make a new schema called `hacktiv8`, apply until finish.\n",
    "\n",
    "<img src=\"images/2.png\" alt=\"schema\" width=\"700\"/>\n",
    "\n",
    "Open the `hacktiv8` schema, right click and select Table Data Import Wizard.\n",
    "\n",
    "<img src=\"images/3.png\" alt=\"import\" width=\"700\"/>\n",
    "\n",
    "Import Wizard window will appear. Select the CSV file and click `Next`.\n",
    "\n",
    "Select the `Create new table`. Next until data is imported."
   ]
  },
  {
   "cell_type": "markdown",
   "metadata": {},
   "source": [
    "You will now see the `insurance` table. If you haven't see your table yet, click `Refresh`.\n",
    "\n",
    "<img src=\"images/4.png\" alt=\"import\" width=\"700\"/>\n",
    "\n",
    "Now we are ready to start our SQL practice."
   ]
  },
  {
   "cell_type": "markdown",
   "metadata": {},
   "source": [
    "If you want to use Python, you need to install mysql-connector first with `pip install -q mysql-connector-python`"
   ]
  },
  {
   "cell_type": "code",
   "execution_count": 1,
   "metadata": {},
   "outputs": [
    {
     "name": "stdout",
     "output_type": "stream",
     "text": [
      "^C\n"
     ]
    }
   ],
   "source": [
    "!pip install -q mysql-connector-python"
   ]
  },
  {
   "cell_type": "markdown",
   "metadata": {},
   "source": [
    "Below are the example commands to use MySQL with Python directly."
   ]
  },
  {
   "cell_type": "code",
   "execution_count": 2,
   "metadata": {},
   "outputs": [
    {
     "name": "stdout",
     "output_type": "stream",
     "text": [
      "<mysql.connector.connection_cext.CMySQLConnection object at 0x0000020E4778D940>\n"
     ]
    }
   ],
   "source": [
    "import mysql.connector\n",
    "\n",
    "mydb = mysql.connector.connect(\n",
    "  host=\"localhost\",\n",
    "  user=\"root\",\n",
    "  passwd=\"\"\n",
    ")\n",
    "\n",
    "print(mydb)"
   ]
  },
  {
   "cell_type": "code",
   "execution_count": 3,
   "metadata": {},
   "outputs": [],
   "source": [
    "# get cursor from connection\n",
    "cur = mydb.cursor()\n",
    "\n",
    "# Query to execute\n",
    "\n",
    "query = \"\"\"select * from hacktiv8.insurance\n",
    "limit 5\"\"\"\n",
    "\n",
    "#  execute this query \n",
    "cur.execute(query)\n",
    "\n",
    "# get rows\n",
    "rows  = cur.fetchall()"
   ]
  },
  {
   "cell_type": "code",
   "execution_count": 4,
   "metadata": {},
   "outputs": [
    {
     "name": "stdout",
     "output_type": "stream",
     "text": [
      "(19, 'female', 27.9, 0, 'yes', 'southwest', 16884.924)\n",
      "(18, 'male', 33.77, 1, 'no', 'southeast', 1725.5523)\n",
      "(28, 'male', 33.0, 3, 'no', 'southeast', 4449.462)\n",
      "(33, 'male', 22.705, 0, 'no', 'northwest', 21984.47061)\n",
      "(32, 'male', 28.88, 0, 'no', 'northwest', 3866.8552)\n"
     ]
    }
   ],
   "source": [
    "for r in rows:\n",
    "    print(r)"
   ]
  },
  {
   "cell_type": "markdown",
   "metadata": {},
   "source": [
    "Back to MySQL Workbench, click on `SQL` and then we are going to run some queries.\n",
    "\n",
    "## Insurance Analytics with SQL"
   ]
  },
  {
   "cell_type": "markdown",
   "metadata": {},
   "source": [
    "In this practice session, we will go over 7 examples to demonstrate how SQL can be used as a data analysis tool. The complexity of the examples steadily increase so it is better if you reach the end.\n",
    "\n",
    "Let’s first take a look at the table by displaying the first 5 rows.\n",
    "\n",
    "`select * from hacktiv8.insurance limit 5`\n",
    "\n",
    "<img src=\"https://miro.medium.com/max/585/1*GLyxlzw93oPG4wTpNAtd2Q.png\" alt=\"import\" width=\"700\"/>\n",
    "\n",
    "The `*` indicates that we want to display all column and the limit keyword specifies the number of rows to be displayed.\n",
    "The dataset contains some personal information and the amount charged for the insurance."
   ]
  },
  {
   "cell_type": "markdown",
   "metadata": {},
   "source": [
    "We can calculate the average charge amount for smokers and non-smokers.\n",
    "\n",
    "```sql\n",
    "select smoker, avg(charges)\n",
    "from hacktiv8.insurance\n",
    "group by smoker\n",
    "```\n",
    "\n",
    "It is similar to the group by function of pandas. We select the smoker and charges columns and apply the average function on the charges. The group by statement allows for separating rows based on the different categories in the smoker column. Thus, we get two averages in the result.\n",
    "If we want to see the overall average, we only need to select the charges column.\n",
    "\n",
    "```sql\n",
    "select avg(charges) from hacktiv8.insurance;\n",
    "```\n",
    "\n",
    "We may also want to see the number of smokers and non-smokers along with the average charges value.\n",
    "\n",
    "```sql\n",
    "select smoker, avg(charges), count(charges)\n",
    "from hacktiv8.insurance\n",
    "group by smoker;\n",
    "```\n",
    "\n",
    "In addition to the previous example, we select the count of the charges column."
   ]
  },
  {
   "cell_type": "markdown",
   "metadata": {},
   "source": [
    "Consider a case where we need to further separate smokers and non-smokers based on gender. To accomplish this task, we need to the sex column to the group by statement.\n",
    "\n",
    "```sql\n",
    "select smoker, sex, avg(charges), count(charges)\n",
    "from hacktiv8.insurance\n",
    "group by smoker, sex;\n",
    "```\n",
    "\n",
    "The select statement also allows for filtering. For instance, we can run the query in the previous statement for people who live in the southeast region.\n",
    "\n",
    "```sql\n",
    "select smoker, sex, avg(charges), count(charges)\n",
    "from hacktiv8.insurance\n",
    "where region = 'southeast'\n",
    "group by smoker, sex;\n",
    "```\n",
    "\n",
    "We use the where statement to specify the condition for filtering. It is important to note that the where statement must be written before the group by statement in the select query."
   ]
  },
  {
   "cell_type": "markdown",
   "metadata": {},
   "source": [
    "We want to find the average bmi value for different categories based on the smoker and children columns but only display the top 3 categories in terms of the average bmi.\n",
    "\n",
    "This examples includes sorting aggregated values which can be done with the order by statement.\n",
    "\n",
    "```sql\n",
    "select smoker, children, avg(bmi) \n",
    "from hacktiv8.insurance\n",
    "group by smoker, children\n",
    "order by avg(bmi) desc\n",
    "limit 3;\n",
    "```\n",
    "\n",
    "The order by statement sorts the rows based on the given column in ascending order. We can change it to descending order by using the desc keyword after the name of the column."
   ]
  },
  {
   "cell_type": "markdown",
   "metadata": {},
   "source": [
    "Let’s elaborate on the previous example. Consider a case where we need the groups with average bmi values higher than the overall average.\n",
    "\n",
    "One way is to separately calculate the overall average and use it as a condition for filtering.\n",
    "\n",
    "`select avg(bmi) from hacktiv8.insurance;`\n",
    "\n",
    "```sql\n",
    "select smoker, children, avg(bmi)\n",
    "from hacktiv8.insurance\n",
    "group by smoker, children\n",
    "having avg(bmi) > 30.6633969;\n",
    "```\n",
    "\n",
    "It is important to note that when we filter based on an aggregated value, we use the having statement instead of the where statement.\n",
    "\n",
    "The second option is to combine these two queries in a nested query.\n",
    "\n",
    "```sql\n",
    "select smoker, children, avg(bmi)\n",
    "from hacktiv8.insurance\n",
    "group by smoker, children\n",
    "having avg(bmi) > (\n",
    "select avg(bmi) from hacktiv8.insurance\n",
    ");\n",
    "```"
   ]
  },
  {
   "cell_type": "markdown",
   "metadata": {},
   "source": [
    "This example is a little more complex than the previous one. Instead of only displaying the rows that have a more than average bmi value, we want to create a new column that indicates whether a row is more than average or not.\n",
    "\n",
    "We will use a case-when statement inside our nested query.\n",
    "\n",
    "```sql\n",
    "select smoker, children, avg(bmi),\n",
    "(case when avg(bmi) > (\n",
    "select avg(bmi) from hacktiv8.insurance) then \"more than avg\"\n",
    "else \"less than avg\" end) as compared_to_avg\n",
    "from hacktiv8.insurance\n",
    "group by smoker, children;\n",
    "```\n",
    "\n",
    "Before displaying the result, let’s try to understand what each step in the query does.\n",
    "\n",
    "We select three columns similar to the previous example. The fourth column is created with a case-when statement. The new column takes the values “more than avg” or “less than avg” based on the comparison of the average bmi value for the row and the overall average bmi value.\n",
    "\n",
    "The overall average bmi value is calculated by using a nested select statement inside the case-when statement."
   ]
  },
  {
   "cell_type": "markdown",
   "metadata": {},
   "source": [
    "We have covered some query examples to demonstrate the data analysis capabilities of SQL."
   ]
  }
 ],
 "metadata": {
  "interpreter": {
   "hash": "60716cfbf8f6257f052921a35c79929cd52e6aa52b65b24e32100e25d3fdc1e3"
  },
  "kernelspec": {
   "display_name": "Python 3.8.5 64-bit",
   "language": "python",
   "name": "python3"
  },
  "language_info": {
   "codemirror_mode": {
    "name": "ipython",
    "version": 3
   },
   "file_extension": ".py",
   "mimetype": "text/x-python",
   "name": "python",
   "nbconvert_exporter": "python",
   "pygments_lexer": "ipython3",
   "version": "3.7.11"
  }
 },
 "nbformat": 4,
 "nbformat_minor": 2
}